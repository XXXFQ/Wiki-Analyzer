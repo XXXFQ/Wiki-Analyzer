{
 "cells": [
  {
   "cell_type": "code",
   "execution_count": 2,
   "metadata": {},
   "outputs": [],
   "source": [
    "import MeCab\n",
    "from sudachipy import tokenizer, dictionary\n",
    "\n",
    "# tagger = MeCab.Tagger('-ochasen')\n",
    "tagger = MeCab.Tagger('-Ochasen -d \"C:/Program Files (x86)/MeCab/dic/ipadic\" -u \"C:/Program Files (x86)/MeCab/dic/NEologd/NEologd.20200910-u.dic\"')\n",
    "\n",
    "tokenizer_obj = dictionary.Dictionary().create()\n",
    "\n",
    "def sudachi_analyze(text: str) -> list:\n",
    "    mode = tokenizer.Tokenizer.SplitMode.C\n",
    "    tokens = tokenizer_obj.tokenize(text, mode)\n",
    "    return [token.surface() for token in tokens]"
   ]
  },
  {
   "cell_type": "code",
   "execution_count": 15,
   "metadata": {},
   "outputs": [],
   "source": [
    "text = \"アズールレーンは、中華人民共和国の企業である上海マンジュウソフトウェアが開発し、中国の企業であるBilibiliが運営するスマートフォン向けゲームアプリである。\""
   ]
  },
  {
   "cell_type": "code",
   "execution_count": 16,
   "metadata": {},
   "outputs": [
    {
     "name": "stdout",
     "output_type": "stream",
     "text": [
      "アズールレーン\tアズールレーン\tアズールレーン\t名詞-固有名詞-一般\t\t\n",
      "は\tハ\tは\t助詞-係助詞\t\t\n",
      "、\t、\t、\t記号-読点\t\t\n",
      "中華人民共和国\tチュウカジンミンキョウワコク\t中華人民共和国\t名詞-固有名詞-地域-国\t\t\n",
      "の\tノ\tの\t助詞-連体化\t\t\n",
      "企業\tキギョウ\t企業\t名詞-一般\t\t\n",
      "で\tデ\tだ\t助動詞\t特殊・ダ\t連用形\n",
      "ある\tアル\tある\t助動詞\t五段・ラ行アル\t基本形\n",
      "上海\tシャンハイ\t上海\t名詞-固有名詞-地域-一般\t\t\n",
      "マンジュウソフトウェア\tマンジュウソフトウェア\tマンジュウソフトウェア\t名詞-一般\t\t\n",
      "が\tガ\tが\t助詞-格助詞-一般\t\t\n",
      "開発\tカイハツ\t開発\t名詞-サ変接続\t\t\n",
      "し\tシ\tする\t動詞-自立\tサ変・スル\t連用形\n",
      "、\t、\t、\t記号-読点\t\t\n",
      "中国\tチュウゴク\t中国\t名詞-固有名詞-地域-国\t\t\n",
      "の\tノ\tの\t助詞-連体化\t\t\n",
      "企業\tキギョウ\t企業\t名詞-一般\t\t\n",
      "で\tデ\tだ\t助動詞\t特殊・ダ\t連用形\n",
      "ある\tアル\tある\t助動詞\t五段・ラ行アル\t基本形\n",
      "Bilibili\tBilibili\tBilibili\t名詞-固有名詞-組織\t\t\n",
      "が\tガ\tが\t助詞-格助詞-一般\t\t\n",
      "運営\tウンエイ\t運営\t名詞-サ変接続\t\t\n",
      "する\tスル\tする\t動詞-自立\tサ変・スル\t基本形\n",
      "スマートフォン\tスマートフォン\tsmartphone\t名詞-固有名詞-一般\t\t\n",
      "向け\tムケ\t向け\t名詞-接尾-一般\t\t\n",
      "ゲームアプリ\tゲームアプリ\tゲームアプリ\t名詞-一般\t\t\n",
      "で\tデ\tだ\t助動詞\t特殊・ダ\t連用形\n",
      "ある\tアル\tある\t助動詞\t五段・ラ行アル\t基本形\n",
      "。\t。\t。\t記号-句点\t\t\n",
      "EOS\n"
     ]
    }
   ],
   "source": [
    "# MeCab\n",
    "print(tagger.parse(text), end='')"
   ]
  },
  {
   "cell_type": "code",
   "execution_count": 17,
   "metadata": {},
   "outputs": [
    {
     "name": "stdout",
     "output_type": "stream",
     "text": [
      "['アズール', 'レーン', 'は', '、', '中華人民共和国', 'の', '企業', 'で', 'ある', '上海', 'マンジュウ', 'ソフトウェア', 'が', '開発', 'し', '、', '中国', 'の', '企業', 'で', 'ある', 'Bilibili', 'が', '運営', 'する', 'スマートフォン', '向け', 'ゲーム', 'アプリ', 'で', 'ある', '。']"
     ]
    }
   ],
   "source": [
    "# SudachiPy\n",
    "print(sudachi_analyze(text), end='')"
   ]
  }
 ],
 "metadata": {
  "kernelspec": {
   "display_name": "Python 3",
   "language": "python",
   "name": "python3"
  },
  "language_info": {
   "codemirror_mode": {
    "name": "ipython",
    "version": 3
   },
   "file_extension": ".py",
   "mimetype": "text/x-python",
   "name": "python",
   "nbconvert_exporter": "python",
   "pygments_lexer": "ipython3",
   "version": "3.11.4"
  }
 },
 "nbformat": 4,
 "nbformat_minor": 2
}
