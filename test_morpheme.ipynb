{
 "cells": [
  {
   "cell_type": "code",
   "execution_count": 7,
   "metadata": {},
   "outputs": [],
   "source": [
    "import MeCab\n",
    "from sudachipy import tokenizer, dictionary\n",
    "\n",
    "tagger = MeCab.Tagger('-ochasen')\n",
    "neo_tagger = MeCab.Tagger('-Ochasen -d \"C:/Program Files (x86)/MeCab/dic/ipadic\" -u \"C:/Program Files (x86)/MeCab/dic/NEologd/NEologd.20200910-u.dic\"')\n",
    "\n",
    "tokenizer_obj = dictionary.Dictionary().create()\n",
    "\n",
    "def sudachi_analyze(text: str) -> list:\n",
    "    mode = tokenizer.Tokenizer.SplitMode.C\n",
    "    tokens = tokenizer_obj.tokenize(text, mode)\n",
    "    return [token.surface() for token in tokens]"
   ]
  },
  {
   "cell_type": "code",
   "execution_count": 20,
   "metadata": {},
   "outputs": [],
   "source": [
    "text = \"星街すいせいは、にじさんじのバーチャルYouTuberである。\""
   ]
  },
  {
   "cell_type": "code",
   "execution_count": 21,
   "metadata": {},
   "outputs": [
    {
     "name": "stdout",
     "output_type": "stream",
     "text": [
      "星\tホシ\tホシ\t星\t名詞-普通名詞-一般\t\t\t0\n",
      "街\tガイ\tガイ\t街\t接尾辞-名詞的-一般\t\t\t\n",
      "すい\tスイ\tスイ\tすい\t副詞\t\t\t2\n",
      "せい\tセー\tセイ\t所為\t名詞-普通名詞-一般\t\t\t1\n",
      "は\tワ\tハ\tは\t助詞-係助詞\t\t\t\n",
      "、\t\t\t、\t補助記号-読点\t\t\t\n",
      "にじ\tニジ\tニジ\t虹\t名詞-普通名詞-一般\t\t\t0\n",
      "さん\tサン\tサン\tさん\t接尾辞-名詞的-一般\t\t\t\n",
      "じ\tジ\tジ\t時\t名詞-普通名詞-助数詞可能\t\t\t1\n",
      "の\tノ\tノ\tの\t助詞-格助詞\t\t\t\n",
      "バーチャル\tバーチャル\tバーチャル\tバーチャル-virtual\t名詞-普通名詞-一般\t\t\t1\n",
      "YouTuber\tYouTuber\tYouTuber\tYouTuber\t名詞-普通名詞-一般\t\t\t0\n",
      "で\tデ\tダ\tだ\t助動詞\t助動詞-ダ\t連用形-一般\t\n",
      "ある\tアル\tアル\t有る\t動詞-非自立可能\t五段-ラ行\t終止形-一般\t1\n",
      "。\t\t\t。\t補助記号-句点\t\t\t\n",
      "EOS\n"
     ]
    }
   ],
   "source": [
    "# MeCab\n",
    "print(tagger.parse(text), end='')"
   ]
  },
  {
   "cell_type": "code",
   "execution_count": 22,
   "metadata": {},
   "outputs": [
    {
     "name": "stdout",
     "output_type": "stream",
     "text": [
      "星街すいせい\tホシマチスイセイ\t星街すいせい\t名詞-固有名詞-人名-一般\t\t\n",
      "は\tハ\tは\t助詞-係助詞\t\t\n",
      "、\t、\t、\t記号-読点\t\t\n",
      "にじさんじ\tニジサンジ\tにじさんじ\t名詞-固有名詞-一般\t\t\n",
      "の\tノ\tの\t助詞-連体化\t\t\n",
      "バーチャルYouTuber\tバーチャルユーチューバー\tバーチャルYouTuber\t名詞-固有名詞-一般\t\t\n",
      "で\tデ\tだ\t助動詞\t特殊・ダ\t連用形\n",
      "ある\tアル\tある\t助動詞\t五段・ラ行アル\t基本形\n",
      "。\t。\t。\t記号-句点\t\t\n",
      "EOS\n"
     ]
    }
   ],
   "source": [
    "print(neo_tagger.parse(text), end='')"
   ]
  },
  {
   "cell_type": "code",
   "execution_count": 23,
   "metadata": {},
   "outputs": [
    {
     "name": "stdout",
     "output_type": "stream",
     "text": [
      "['星', '街', 'すい', 'せい', 'は', '、', 'にじ', 'さん', 'じ', 'の', 'バーチャルYouTuber', 'で', 'ある', '。']"
     ]
    }
   ],
   "source": [
    "# SudachiPy\n",
    "print(sudachi_analyze(text), end='')"
   ]
  }
 ],
 "metadata": {
  "kernelspec": {
   "display_name": "Python 3",
   "language": "python",
   "name": "python3"
  },
  "language_info": {
   "codemirror_mode": {
    "name": "ipython",
    "version": 3
   },
   "file_extension": ".py",
   "mimetype": "text/x-python",
   "name": "python",
   "nbconvert_exporter": "python",
   "pygments_lexer": "ipython3",
   "version": "3.11.4"
  }
 },
 "nbformat": 4,
 "nbformat_minor": 2
}
